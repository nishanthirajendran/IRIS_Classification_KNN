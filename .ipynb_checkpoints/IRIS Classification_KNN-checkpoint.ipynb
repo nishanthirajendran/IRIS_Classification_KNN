{
 "cells": [
  {
   "cell_type": "markdown",
   "id": "c9ff0c51",
   "metadata": {},
   "source": [
    "## IRIS Flower Classification_KNN"
   ]
  },
  {
   "cell_type": "code",
   "execution_count": 1,
   "id": "3968f2ab",
   "metadata": {},
   "outputs": [],
   "source": [
    "import numpy as np\n",
    "import pandas as pd\n",
    "import matplotlib.pyplot as plt\n",
    "%matplotlib inline"
   ]
  },
  {
   "cell_type": "code",
   "execution_count": 27,
   "id": "94931a05",
   "metadata": {},
   "outputs": [],
   "source": [
    "#url = 'https://raw.githubusercontent.com/uiuc-cse/data-fa14/gh-pages/data/iris.csv'\n",
    "\n",
    "#Assign column names to dataset\n",
    "names = ['sepal-length', 'sepal-width', 'petal-length', 'petal-width', 'class']\n",
    "dataset_Iris = pd.read_csv('IRIS.csv', names=names)"
   ]
  },
  {
   "cell_type": "code",
   "execution_count": 28,
   "id": "4d80a007",
   "metadata": {},
   "outputs": [
    {
     "name": "stdout",
     "output_type": "stream",
     "text": [
      "<class 'pandas.core.frame.DataFrame'>\n",
      "RangeIndex: 151 entries, 0 to 150\n",
      "Data columns (total 5 columns):\n",
      " #   Column        Non-Null Count  Dtype \n",
      "---  ------        --------------  ----- \n",
      " 0   sepal-length  151 non-null    object\n",
      " 1   sepal-width   151 non-null    object\n",
      " 2   petal-length  151 non-null    object\n",
      " 3   petal-width   151 non-null    object\n",
      " 4   class         151 non-null    object\n",
      "dtypes: object(5)\n",
      "memory usage: 6.0+ KB\n"
     ]
    }
   ],
   "source": [
    "dataset_Iris.info()"
   ]
  },
  {
   "cell_type": "code",
   "execution_count": 29,
   "id": "27e92931",
   "metadata": {},
   "outputs": [
    {
     "data": {
      "text/html": [
       "<div>\n",
       "<style scoped>\n",
       "    .dataframe tbody tr th:only-of-type {\n",
       "        vertical-align: middle;\n",
       "    }\n",
       "\n",
       "    .dataframe tbody tr th {\n",
       "        vertical-align: top;\n",
       "    }\n",
       "\n",
       "    .dataframe thead th {\n",
       "        text-align: right;\n",
       "    }\n",
       "</style>\n",
       "<table border=\"1\" class=\"dataframe\">\n",
       "  <thead>\n",
       "    <tr style=\"text-align: right;\">\n",
       "      <th></th>\n",
       "      <th>sepal-length</th>\n",
       "      <th>sepal-width</th>\n",
       "      <th>petal-length</th>\n",
       "      <th>petal-width</th>\n",
       "      <th>class</th>\n",
       "    </tr>\n",
       "  </thead>\n",
       "  <tbody>\n",
       "    <tr>\n",
       "      <th>count</th>\n",
       "      <td>151</td>\n",
       "      <td>151</td>\n",
       "      <td>151</td>\n",
       "      <td>151</td>\n",
       "      <td>151</td>\n",
       "    </tr>\n",
       "    <tr>\n",
       "      <th>unique</th>\n",
       "      <td>36</td>\n",
       "      <td>24</td>\n",
       "      <td>44</td>\n",
       "      <td>23</td>\n",
       "      <td>4</td>\n",
       "    </tr>\n",
       "    <tr>\n",
       "      <th>top</th>\n",
       "      <td>5</td>\n",
       "      <td>3</td>\n",
       "      <td>1.5</td>\n",
       "      <td>0.2</td>\n",
       "      <td>Iris-setosa</td>\n",
       "    </tr>\n",
       "    <tr>\n",
       "      <th>freq</th>\n",
       "      <td>10</td>\n",
       "      <td>26</td>\n",
       "      <td>14</td>\n",
       "      <td>28</td>\n",
       "      <td>50</td>\n",
       "    </tr>\n",
       "  </tbody>\n",
       "</table>\n",
       "</div>"
      ],
      "text/plain": [
       "       sepal-length sepal-width petal-length petal-width        class\n",
       "count           151         151          151         151          151\n",
       "unique           36          24           44          23            4\n",
       "top               5           3          1.5         0.2  Iris-setosa\n",
       "freq             10          26           14          28           50"
      ]
     },
     "execution_count": 29,
     "metadata": {},
     "output_type": "execute_result"
    }
   ],
   "source": [
    "dataset_Iris.describe()"
   ]
  },
  {
   "cell_type": "code",
   "execution_count": 30,
   "id": "d3744b3b",
   "metadata": {},
   "outputs": [
    {
     "data": {
      "text/html": [
       "<div>\n",
       "<style scoped>\n",
       "    .dataframe tbody tr th:only-of-type {\n",
       "        vertical-align: middle;\n",
       "    }\n",
       "\n",
       "    .dataframe tbody tr th {\n",
       "        vertical-align: top;\n",
       "    }\n",
       "\n",
       "    .dataframe thead th {\n",
       "        text-align: right;\n",
       "    }\n",
       "</style>\n",
       "<table border=\"1\" class=\"dataframe\">\n",
       "  <thead>\n",
       "    <tr style=\"text-align: right;\">\n",
       "      <th></th>\n",
       "      <th>sepal-length</th>\n",
       "      <th>sepal-width</th>\n",
       "      <th>petal-length</th>\n",
       "      <th>petal-width</th>\n",
       "      <th>class</th>\n",
       "    </tr>\n",
       "  </thead>\n",
       "  <tbody>\n",
       "    <tr>\n",
       "      <th>0</th>\n",
       "      <td>sepal_length</td>\n",
       "      <td>sepal_width</td>\n",
       "      <td>petal_length</td>\n",
       "      <td>petal_width</td>\n",
       "      <td>species</td>\n",
       "    </tr>\n",
       "    <tr>\n",
       "      <th>1</th>\n",
       "      <td>5.1</td>\n",
       "      <td>3.5</td>\n",
       "      <td>1.4</td>\n",
       "      <td>0.2</td>\n",
       "      <td>Iris-setosa</td>\n",
       "    </tr>\n",
       "    <tr>\n",
       "      <th>2</th>\n",
       "      <td>4.9</td>\n",
       "      <td>3</td>\n",
       "      <td>1.4</td>\n",
       "      <td>0.2</td>\n",
       "      <td>Iris-setosa</td>\n",
       "    </tr>\n",
       "    <tr>\n",
       "      <th>3</th>\n",
       "      <td>4.7</td>\n",
       "      <td>3.2</td>\n",
       "      <td>1.3</td>\n",
       "      <td>0.2</td>\n",
       "      <td>Iris-setosa</td>\n",
       "    </tr>\n",
       "    <tr>\n",
       "      <th>4</th>\n",
       "      <td>4.6</td>\n",
       "      <td>3.1</td>\n",
       "      <td>1.5</td>\n",
       "      <td>0.2</td>\n",
       "      <td>Iris-setosa</td>\n",
       "    </tr>\n",
       "  </tbody>\n",
       "</table>\n",
       "</div>"
      ],
      "text/plain": [
       "   sepal-length  sepal-width  petal-length  petal-width        class\n",
       "0  sepal_length  sepal_width  petal_length  petal_width      species\n",
       "1           5.1          3.5           1.4          0.2  Iris-setosa\n",
       "2           4.9            3           1.4          0.2  Iris-setosa\n",
       "3           4.7          3.2           1.3          0.2  Iris-setosa\n",
       "4           4.6          3.1           1.5          0.2  Iris-setosa"
      ]
     },
     "execution_count": 30,
     "metadata": {},
     "output_type": "execute_result"
    }
   ],
   "source": [
    "dataset_Iris.head()"
   ]
  },
  {
   "cell_type": "code",
   "execution_count": 59,
   "id": "2e5556e6",
   "metadata": {},
   "outputs": [],
   "source": [
    "X = dataset_Iris.iloc[1:,:-1].values\n",
    "y = dataset_Iris.iloc[1:,4].values"
   ]
  },
  {
   "cell_type": "code",
   "execution_count": 55,
   "id": "463acf5b",
   "metadata": {},
   "outputs": [
    {
     "data": {
      "text/plain": [
       "array([['5.1', '3.5', '1.4', '0.2'],\n",
       "       ['4.9', '3', '1.4', '0.2'],\n",
       "       ['4.7', '3.2', '1.3', '0.2'],\n",
       "       ['4.6', '3.1', '1.5', '0.2'],\n",
       "       ['5', '3.6', '1.4', '0.2'],\n",
       "       ['5.4', '3.9', '1.7', '0.4'],\n",
       "       ['4.6', '3.4', '1.4', '0.3'],\n",
       "       ['5', '3.4', '1.5', '0.2'],\n",
       "       ['4.4', '2.9', '1.4', '0.2'],\n",
       "       ['4.9', '3.1', '1.5', '0.1'],\n",
       "       ['5.4', '3.7', '1.5', '0.2'],\n",
       "       ['4.8', '3.4', '1.6', '0.2'],\n",
       "       ['4.8', '3', '1.4', '0.1'],\n",
       "       ['4.3', '3', '1.1', '0.1'],\n",
       "       ['5.8', '4', '1.2', '0.2'],\n",
       "       ['5.7', '4.4', '1.5', '0.4'],\n",
       "       ['5.4', '3.9', '1.3', '0.4'],\n",
       "       ['5.1', '3.5', '1.4', '0.3'],\n",
       "       ['5.7', '3.8', '1.7', '0.3'],\n",
       "       ['5.1', '3.8', '1.5', '0.3'],\n",
       "       ['5.4', '3.4', '1.7', '0.2'],\n",
       "       ['5.1', '3.7', '1.5', '0.4'],\n",
       "       ['4.6', '3.6', '1', '0.2'],\n",
       "       ['5.1', '3.3', '1.7', '0.5'],\n",
       "       ['4.8', '3.4', '1.9', '0.2'],\n",
       "       ['5', '3', '1.6', '0.2'],\n",
       "       ['5', '3.4', '1.6', '0.4'],\n",
       "       ['5.2', '3.5', '1.5', '0.2'],\n",
       "       ['5.2', '3.4', '1.4', '0.2'],\n",
       "       ['4.7', '3.2', '1.6', '0.2'],\n",
       "       ['4.8', '3.1', '1.6', '0.2'],\n",
       "       ['5.4', '3.4', '1.5', '0.4'],\n",
       "       ['5.2', '4.1', '1.5', '0.1'],\n",
       "       ['5.5', '4.2', '1.4', '0.2'],\n",
       "       ['4.9', '3.1', '1.5', '0.1'],\n",
       "       ['5', '3.2', '1.2', '0.2'],\n",
       "       ['5.5', '3.5', '1.3', '0.2'],\n",
       "       ['4.9', '3.1', '1.5', '0.1'],\n",
       "       ['4.4', '3', '1.3', '0.2'],\n",
       "       ['5.1', '3.4', '1.5', '0.2'],\n",
       "       ['5', '3.5', '1.3', '0.3'],\n",
       "       ['4.5', '2.3', '1.3', '0.3'],\n",
       "       ['4.4', '3.2', '1.3', '0.2'],\n",
       "       ['5', '3.5', '1.6', '0.6'],\n",
       "       ['5.1', '3.8', '1.9', '0.4'],\n",
       "       ['4.8', '3', '1.4', '0.3'],\n",
       "       ['5.1', '3.8', '1.6', '0.2'],\n",
       "       ['4.6', '3.2', '1.4', '0.2'],\n",
       "       ['5.3', '3.7', '1.5', '0.2'],\n",
       "       ['5', '3.3', '1.4', '0.2'],\n",
       "       ['7', '3.2', '4.7', '1.4'],\n",
       "       ['6.4', '3.2', '4.5', '1.5'],\n",
       "       ['6.9', '3.1', '4.9', '1.5'],\n",
       "       ['5.5', '2.3', '4', '1.3'],\n",
       "       ['6.5', '2.8', '4.6', '1.5'],\n",
       "       ['5.7', '2.8', '4.5', '1.3'],\n",
       "       ['6.3', '3.3', '4.7', '1.6'],\n",
       "       ['4.9', '2.4', '3.3', '1'],\n",
       "       ['6.6', '2.9', '4.6', '1.3'],\n",
       "       ['5.2', '2.7', '3.9', '1.4'],\n",
       "       ['5', '2', '3.5', '1'],\n",
       "       ['5.9', '3', '4.2', '1.5'],\n",
       "       ['6', '2.2', '4', '1'],\n",
       "       ['6.1', '2.9', '4.7', '1.4'],\n",
       "       ['5.6', '2.9', '3.6', '1.3'],\n",
       "       ['6.7', '3.1', '4.4', '1.4'],\n",
       "       ['5.6', '3', '4.5', '1.5'],\n",
       "       ['5.8', '2.7', '4.1', '1'],\n",
       "       ['6.2', '2.2', '4.5', '1.5'],\n",
       "       ['5.6', '2.5', '3.9', '1.1'],\n",
       "       ['5.9', '3.2', '4.8', '1.8'],\n",
       "       ['6.1', '2.8', '4', '1.3'],\n",
       "       ['6.3', '2.5', '4.9', '1.5'],\n",
       "       ['6.1', '2.8', '4.7', '1.2'],\n",
       "       ['6.4', '2.9', '4.3', '1.3'],\n",
       "       ['6.6', '3', '4.4', '1.4'],\n",
       "       ['6.8', '2.8', '4.8', '1.4'],\n",
       "       ['6.7', '3', '5', '1.7'],\n",
       "       ['6', '2.9', '4.5', '1.5'],\n",
       "       ['5.7', '2.6', '3.5', '1'],\n",
       "       ['5.5', '2.4', '3.8', '1.1'],\n",
       "       ['5.5', '2.4', '3.7', '1'],\n",
       "       ['5.8', '2.7', '3.9', '1.2'],\n",
       "       ['6', '2.7', '5.1', '1.6'],\n",
       "       ['5.4', '3', '4.5', '1.5'],\n",
       "       ['6', '3.4', '4.5', '1.6'],\n",
       "       ['6.7', '3.1', '4.7', '1.5'],\n",
       "       ['6.3', '2.3', '4.4', '1.3'],\n",
       "       ['5.6', '3', '4.1', '1.3'],\n",
       "       ['5.5', '2.5', '4', '1.3'],\n",
       "       ['5.5', '2.6', '4.4', '1.2'],\n",
       "       ['6.1', '3', '4.6', '1.4'],\n",
       "       ['5.8', '2.6', '4', '1.2'],\n",
       "       ['5', '2.3', '3.3', '1'],\n",
       "       ['5.6', '2.7', '4.2', '1.3'],\n",
       "       ['5.7', '3', '4.2', '1.2'],\n",
       "       ['5.7', '2.9', '4.2', '1.3'],\n",
       "       ['6.2', '2.9', '4.3', '1.3'],\n",
       "       ['5.1', '2.5', '3', '1.1'],\n",
       "       ['5.7', '2.8', '4.1', '1.3'],\n",
       "       ['6.3', '3.3', '6', '2.5'],\n",
       "       ['5.8', '2.7', '5.1', '1.9'],\n",
       "       ['7.1', '3', '5.9', '2.1'],\n",
       "       ['6.3', '2.9', '5.6', '1.8'],\n",
       "       ['6.5', '3', '5.8', '2.2'],\n",
       "       ['7.6', '3', '6.6', '2.1'],\n",
       "       ['4.9', '2.5', '4.5', '1.7'],\n",
       "       ['7.3', '2.9', '6.3', '1.8'],\n",
       "       ['6.7', '2.5', '5.8', '1.8'],\n",
       "       ['7.2', '3.6', '6.1', '2.5'],\n",
       "       ['6.5', '3.2', '5.1', '2'],\n",
       "       ['6.4', '2.7', '5.3', '1.9'],\n",
       "       ['6.8', '3', '5.5', '2.1'],\n",
       "       ['5.7', '2.5', '5', '2'],\n",
       "       ['5.8', '2.8', '5.1', '2.4'],\n",
       "       ['6.4', '3.2', '5.3', '2.3'],\n",
       "       ['6.5', '3', '5.5', '1.8'],\n",
       "       ['7.7', '3.8', '6.7', '2.2'],\n",
       "       ['7.7', '2.6', '6.9', '2.3'],\n",
       "       ['6', '2.2', '5', '1.5'],\n",
       "       ['6.9', '3.2', '5.7', '2.3'],\n",
       "       ['5.6', '2.8', '4.9', '2'],\n",
       "       ['7.7', '2.8', '6.7', '2'],\n",
       "       ['6.3', '2.7', '4.9', '1.8'],\n",
       "       ['6.7', '3.3', '5.7', '2.1'],\n",
       "       ['7.2', '3.2', '6', '1.8'],\n",
       "       ['6.2', '2.8', '4.8', '1.8'],\n",
       "       ['6.1', '3', '4.9', '1.8'],\n",
       "       ['6.4', '2.8', '5.6', '2.1'],\n",
       "       ['7.2', '3', '5.8', '1.6'],\n",
       "       ['7.4', '2.8', '6.1', '1.9'],\n",
       "       ['7.9', '3.8', '6.4', '2'],\n",
       "       ['6.4', '2.8', '5.6', '2.2'],\n",
       "       ['6.3', '2.8', '5.1', '1.5'],\n",
       "       ['6.1', '2.6', '5.6', '1.4'],\n",
       "       ['7.7', '3', '6.1', '2.3'],\n",
       "       ['6.3', '3.4', '5.6', '2.4'],\n",
       "       ['6.4', '3.1', '5.5', '1.8'],\n",
       "       ['6', '3', '4.8', '1.8'],\n",
       "       ['6.9', '3.1', '5.4', '2.1'],\n",
       "       ['6.7', '3.1', '5.6', '2.4'],\n",
       "       ['6.9', '3.1', '5.1', '2.3'],\n",
       "       ['5.8', '2.7', '5.1', '1.9'],\n",
       "       ['6.8', '3.2', '5.9', '2.3'],\n",
       "       ['6.7', '3.3', '5.7', '2.5'],\n",
       "       ['6.7', '3', '5.2', '2.3'],\n",
       "       ['6.3', '2.5', '5', '1.9'],\n",
       "       ['6.5', '3', '5.2', '2'],\n",
       "       ['6.2', '3.4', '5.4', '2.3'],\n",
       "       ['5.9', '3', '5.1', '1.8']], dtype=object)"
      ]
     },
     "execution_count": 55,
     "metadata": {},
     "output_type": "execute_result"
    }
   ],
   "source": [
    "X"
   ]
  },
  {
   "cell_type": "code",
   "execution_count": 60,
   "id": "bf396b1e",
   "metadata": {},
   "outputs": [
    {
     "data": {
      "text/plain": [
       "array(['Iris-setosa', 'Iris-setosa', 'Iris-setosa', 'Iris-setosa',\n",
       "       'Iris-setosa', 'Iris-setosa', 'Iris-setosa', 'Iris-setosa',\n",
       "       'Iris-setosa', 'Iris-setosa', 'Iris-setosa', 'Iris-setosa',\n",
       "       'Iris-setosa', 'Iris-setosa', 'Iris-setosa', 'Iris-setosa',\n",
       "       'Iris-setosa', 'Iris-setosa', 'Iris-setosa', 'Iris-setosa',\n",
       "       'Iris-setosa', 'Iris-setosa', 'Iris-setosa', 'Iris-setosa',\n",
       "       'Iris-setosa', 'Iris-setosa', 'Iris-setosa', 'Iris-setosa',\n",
       "       'Iris-setosa', 'Iris-setosa', 'Iris-setosa', 'Iris-setosa',\n",
       "       'Iris-setosa', 'Iris-setosa', 'Iris-setosa', 'Iris-setosa',\n",
       "       'Iris-setosa', 'Iris-setosa', 'Iris-setosa', 'Iris-setosa',\n",
       "       'Iris-setosa', 'Iris-setosa', 'Iris-setosa', 'Iris-setosa',\n",
       "       'Iris-setosa', 'Iris-setosa', 'Iris-setosa', 'Iris-setosa',\n",
       "       'Iris-setosa', 'Iris-setosa', 'Iris-versicolor', 'Iris-versicolor',\n",
       "       'Iris-versicolor', 'Iris-versicolor', 'Iris-versicolor',\n",
       "       'Iris-versicolor', 'Iris-versicolor', 'Iris-versicolor',\n",
       "       'Iris-versicolor', 'Iris-versicolor', 'Iris-versicolor',\n",
       "       'Iris-versicolor', 'Iris-versicolor', 'Iris-versicolor',\n",
       "       'Iris-versicolor', 'Iris-versicolor', 'Iris-versicolor',\n",
       "       'Iris-versicolor', 'Iris-versicolor', 'Iris-versicolor',\n",
       "       'Iris-versicolor', 'Iris-versicolor', 'Iris-versicolor',\n",
       "       'Iris-versicolor', 'Iris-versicolor', 'Iris-versicolor',\n",
       "       'Iris-versicolor', 'Iris-versicolor', 'Iris-versicolor',\n",
       "       'Iris-versicolor', 'Iris-versicolor', 'Iris-versicolor',\n",
       "       'Iris-versicolor', 'Iris-versicolor', 'Iris-versicolor',\n",
       "       'Iris-versicolor', 'Iris-versicolor', 'Iris-versicolor',\n",
       "       'Iris-versicolor', 'Iris-versicolor', 'Iris-versicolor',\n",
       "       'Iris-versicolor', 'Iris-versicolor', 'Iris-versicolor',\n",
       "       'Iris-versicolor', 'Iris-versicolor', 'Iris-versicolor',\n",
       "       'Iris-versicolor', 'Iris-versicolor', 'Iris-versicolor',\n",
       "       'Iris-virginica', 'Iris-virginica', 'Iris-virginica',\n",
       "       'Iris-virginica', 'Iris-virginica', 'Iris-virginica',\n",
       "       'Iris-virginica', 'Iris-virginica', 'Iris-virginica',\n",
       "       'Iris-virginica', 'Iris-virginica', 'Iris-virginica',\n",
       "       'Iris-virginica', 'Iris-virginica', 'Iris-virginica',\n",
       "       'Iris-virginica', 'Iris-virginica', 'Iris-virginica',\n",
       "       'Iris-virginica', 'Iris-virginica', 'Iris-virginica',\n",
       "       'Iris-virginica', 'Iris-virginica', 'Iris-virginica',\n",
       "       'Iris-virginica', 'Iris-virginica', 'Iris-virginica',\n",
       "       'Iris-virginica', 'Iris-virginica', 'Iris-virginica',\n",
       "       'Iris-virginica', 'Iris-virginica', 'Iris-virginica',\n",
       "       'Iris-virginica', 'Iris-virginica', 'Iris-virginica',\n",
       "       'Iris-virginica', 'Iris-virginica', 'Iris-virginica',\n",
       "       'Iris-virginica', 'Iris-virginica', 'Iris-virginica',\n",
       "       'Iris-virginica', 'Iris-virginica', 'Iris-virginica',\n",
       "       'Iris-virginica', 'Iris-virginica', 'Iris-virginica',\n",
       "       'Iris-virginica', 'Iris-virginica'], dtype=object)"
      ]
     },
     "execution_count": 60,
     "metadata": {},
     "output_type": "execute_result"
    }
   ],
   "source": [
    "y"
   ]
  },
  {
   "cell_type": "code",
   "execution_count": 64,
   "id": "7614345e",
   "metadata": {},
   "outputs": [],
   "source": [
    "#spliting the model for test and training\n",
    "\n",
    "from sklearn.neighbors import KNeighborsClassifier\n",
    "from sklearn import preprocessing\n",
    "from sklearn.model_selection import train_test_split"
   ]
  },
  {
   "cell_type": "code",
   "execution_count": 65,
   "id": "d22d52f8",
   "metadata": {},
   "outputs": [],
   "source": [
    "X_train, X_test, y_train, y_test = train_test_split(X, y, test_size=0.20)"
   ]
  },
  {
   "cell_type": "code",
   "execution_count": 66,
   "id": "6b291a3b",
   "metadata": {},
   "outputs": [],
   "source": [
    "scaler = StandardScaler()\n",
    "scaler.fit(X_train)\n",
    "X_train = scaler.transform(X_train)\n",
    "X_test = scaler.transform(X_test)"
   ]
  },
  {
   "cell_type": "code",
   "execution_count": 67,
   "id": "8359a46c",
   "metadata": {},
   "outputs": [
    {
     "data": {
      "text/plain": [
       "KNeighborsClassifier()"
      ]
     },
     "execution_count": 67,
     "metadata": {},
     "output_type": "execute_result"
    }
   ],
   "source": [
    "classifier = KNeighborsClassifier(n_neighbors=5)\n",
    "classifier.fit(X_train, y_train)"
   ]
  },
  {
   "cell_type": "code",
   "execution_count": 68,
   "id": "8e0cdf0b",
   "metadata": {},
   "outputs": [],
   "source": [
    "y_pred = classifier.predict(X_test)"
   ]
  },
  {
   "cell_type": "code",
   "execution_count": 69,
   "id": "3e4903af",
   "metadata": {},
   "outputs": [],
   "source": [
    "from sklearn.metrics import classification_report, confusion_matrix"
   ]
  },
  {
   "cell_type": "code",
   "execution_count": 72,
   "id": "dc2e623c",
   "metadata": {},
   "outputs": [
    {
     "name": "stdout",
     "output_type": "stream",
     "text": [
      "                 precision    recall  f1-score   support\n",
      "\n",
      "    Iris-setosa       1.00      1.00      1.00         9\n",
      "Iris-versicolor       1.00      1.00      1.00        10\n",
      " Iris-virginica       1.00      1.00      1.00        11\n",
      "\n",
      "       accuracy                           1.00        30\n",
      "      macro avg       1.00      1.00      1.00        30\n",
      "   weighted avg       1.00      1.00      1.00        30\n",
      "\n",
      "[[ 9  0  0]\n",
      " [ 0 10  0]\n",
      " [ 0  0 11]]\n"
     ]
    }
   ],
   "source": [
    "print (classification_report(y_test, y_pred))\n",
    "print (confusion_matrix(y_test, y_pred))"
   ]
  },
  {
   "cell_type": "code",
   "execution_count": null,
   "id": "c4e7b12b",
   "metadata": {},
   "outputs": [],
   "source": []
  }
 ],
 "metadata": {
  "kernelspec": {
   "display_name": "Python 3 (ipykernel)",
   "language": "python",
   "name": "python3"
  },
  "language_info": {
   "codemirror_mode": {
    "name": "ipython",
    "version": 3
   },
   "file_extension": ".py",
   "mimetype": "text/x-python",
   "name": "python",
   "nbconvert_exporter": "python",
   "pygments_lexer": "ipython3",
   "version": "3.9.7"
  }
 },
 "nbformat": 4,
 "nbformat_minor": 5
}
